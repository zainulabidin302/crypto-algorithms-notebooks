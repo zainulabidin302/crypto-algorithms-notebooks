{
 "cells": [
  {
   "cell_type": "code",
   "execution_count": 93,
   "metadata": {},
   "outputs": [
    {
     "name": "stdout",
     "output_type": "stream",
     "text": [
      "plain text: onrblayjzwkiuchgpemsvqxtfd\n",
      "cipher text: dcgqapnyolzxjrwvetbhkfmius, key: 15\n",
      "plain text: onrblayjzwkiuchgpemsvqxtfd\n"
     ]
    }
   ],
   "source": [
    "# Ceaser Cipher \n",
    "import string\n",
    "import random\n",
    "\n",
    "_alphabets = list(string.ascii_lowercase)\n",
    "_numbers = range(0, 26)\n",
    "_alpha_num_map = dict(zip(_alphabets, _numbers))\n",
    "_num_alpha_map = dict(zip(_numbers, _alphabets))\n",
    "\n",
    "# encryption algorithm \n",
    "# y = x + k mod C\n",
    "# decryption algorithm \n",
    "# y = x - k mod C\n",
    "# where x is the message\n",
    "# k is key \n",
    "# and C is a constant for total number of allowed integers\n",
    "# decrypt = True/False\n",
    "\n",
    "\n",
    "\n",
    "def ceaser_cipher(plain_text, key=-1, C=26, decrypt=False):\n",
    "    if key == -1:\n",
    "        key = random.randrange(0, 26, 1)\n",
    "    key = key % C\n",
    "    \n",
    "    if len(plain_text) > 0:\n",
    "        if decrypt:\n",
    "            y = [_alpha_num_map[x] - key for x in list(plain_text)]\n",
    "        else:\n",
    "            y = [_alpha_num_map[x] + key for x in list(plain_text)]\n",
    "    else:\n",
    "        raise ValueError('plain_text', 'must be a string with some text')\n",
    "    return key, ''.join(map(lambda a: _num_alpha_map[a % C], y))\n",
    "    \n",
    "    \n",
    "    \n",
    "from random import shuffle\n",
    "plain_txt = string.ascii_lowercase\n",
    "plain_txt = list(plain_txt)\n",
    "shuffle(plain_txt)\n",
    "plain_txt = ''.join(plain_txt)\n",
    "\n",
    "\n",
    "print 'before plain text: %s' % (plain_txt) \n",
    "\n",
    "key, cipher_txt = ceaser_cipher(plain_txt, key=15)\n",
    "\n",
    "print 'cipher text: %s, key: %s' % ( cipher_txt, key) \n",
    "\n",
    "key, plain_txt = ceaser_cipher(cipher_txt, key=15, decrypt=True)\n",
    "print 'after plain text: %s' % (plain_txt) \n"
   ]
  },
  {
   "cell_type": "code",
   "execution_count": null,
   "metadata": {
    "collapsed": true
   },
   "outputs": [],
   "source": []
  }
 ],
 "metadata": {
  "kernelspec": {
   "display_name": "Python 2",
   "language": "python",
   "name": "python2"
  },
  "language_info": {
   "codemirror_mode": {
    "name": "ipython",
    "version": 2
   },
   "file_extension": ".py",
   "mimetype": "text/x-python",
   "name": "python",
   "nbconvert_exporter": "python",
   "pygments_lexer": "ipython2",
   "version": "2.7.13"
  }
 },
 "nbformat": 4,
 "nbformat_minor": 2
}
